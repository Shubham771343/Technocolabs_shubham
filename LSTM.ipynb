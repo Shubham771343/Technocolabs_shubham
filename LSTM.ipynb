{
 "cells": [
  {
   "cell_type": "code",
   "execution_count": 1,
   "metadata": {},
   "outputs": [],
   "source": [
    "\r\n",
    "import matplotlib as mpl\r\n",
    "import matplotlib.pyplot as plt\r\n",
    "import os\r\n",
    "import re\r\n",
    "import shutil\r\n",
    "import string\r\n",
    "import tensorflow as tf\r\n",
    "from tensorflow.keras import regularizers\r\n",
    "\r\n",
    "from tensorflow.keras import layers\r\n",
    "from tensorflow.keras import losses\r\n",
    "\r\n",
    "from collections import Counter\r\n",
    "\r\n",
    "\r\n",
    "import pandas as pd\r\n",
    "import numpy as np\r\n",
    "\r\n",
    "import sklearn\r\n",
    "\r\n",
    "\r\n",
    "from sklearn.model_selection import train_test_split\r\n",
    "from sklearn.metrics import classification_report\r\n",
    "\r\n",
    "from tensorflow.keras import preprocessing\r\n",
    "from tensorflow.keras.preprocessing.text import Tokenizer\r\n",
    "from tensorflow.keras.preprocessing.sequence import pad_sequences\r\n",
    "\r\n",
    "\r\n",
    "import seaborn as sns\r\n",
    "\r\n",
    "import pydot\r\n",
    "\r\n",
    "electric_product = pd.read_csv(\"C:/Users/vikar/Desktop/Viraj Karkar/Technocolab/Supervised ML Task-1/Datafiniti_Amazon_Consumer_Reviews_of_Amazon_Products_May19.csv\", usecols=['reviews_text', 'reviews_rating','primaryCategories', 'id'])\r\n",
    "electric_product1 = pd.read_csv(\"C:/Users/vikar/Desktop/Viraj Karkar/Technocolab/Supervised ML Task-1/1429_1.csv\", usecols=['reviews_text', 'reviews_rating','primaryCategories', 'id'])\r\n",
    "electric_product2 = pd.read_csv(\"C:/Users/vikar/Desktop/Viraj Karkar/Technocolab/Supervised ML Task-1/Datafiniti_Amazon_Consumer_Reviews_of_Amazon_Products.csv\", usecols=['reviews_text', 'reviews_rating','primaryCategories', 'id'])"
   ]
  },
  {
   "cell_type": "code",
   "execution_count": 2,
   "metadata": {},
   "outputs": [
    {
     "data": {
      "text/html": [
       "<div>\n",
       "<style scoped>\n",
       "    .dataframe tbody tr th:only-of-type {\n",
       "        vertical-align: middle;\n",
       "    }\n",
       "\n",
       "    .dataframe tbody tr th {\n",
       "        vertical-align: top;\n",
       "    }\n",
       "\n",
       "    .dataframe thead th {\n",
       "        text-align: right;\n",
       "    }\n",
       "</style>\n",
       "<table border=\"1\" class=\"dataframe\">\n",
       "  <thead>\n",
       "    <tr style=\"text-align: right;\">\n",
       "      <th></th>\n",
       "      <th>id</th>\n",
       "      <th>primaryCategories</th>\n",
       "      <th>reviews_rating</th>\n",
       "      <th>reviews_text</th>\n",
       "    </tr>\n",
       "  </thead>\n",
       "  <tbody>\n",
       "    <tr>\n",
       "      <th>0</th>\n",
       "      <td>AVpgNzjwLJeJML43Kpxn</td>\n",
       "      <td>Health &amp; Beauty</td>\n",
       "      <td>3.0</td>\n",
       "      <td>I order 3 of them and one of the item is bad q...</td>\n",
       "    </tr>\n",
       "    <tr>\n",
       "      <th>1</th>\n",
       "      <td>AVpgNzjwLJeJML43Kpxn</td>\n",
       "      <td>Health &amp; Beauty</td>\n",
       "      <td>4.0</td>\n",
       "      <td>Bulk is always the less expensive way to go fo...</td>\n",
       "    </tr>\n",
       "    <tr>\n",
       "      <th>2</th>\n",
       "      <td>AVpgNzjwLJeJML43Kpxn</td>\n",
       "      <td>Health &amp; Beauty</td>\n",
       "      <td>5.0</td>\n",
       "      <td>Well they are not Duracell but for the price i...</td>\n",
       "    </tr>\n",
       "    <tr>\n",
       "      <th>3</th>\n",
       "      <td>AVpgNzjwLJeJML43Kpxn</td>\n",
       "      <td>Health &amp; Beauty</td>\n",
       "      <td>5.0</td>\n",
       "      <td>Seem to work as well as name brand batteries a...</td>\n",
       "    </tr>\n",
       "    <tr>\n",
       "      <th>4</th>\n",
       "      <td>AVpgNzjwLJeJML43Kpxn</td>\n",
       "      <td>Health &amp; Beauty</td>\n",
       "      <td>5.0</td>\n",
       "      <td>These batteries are very long lasting the pric...</td>\n",
       "    </tr>\n",
       "    <tr>\n",
       "      <th>...</th>\n",
       "      <td>...</td>\n",
       "      <td>...</td>\n",
       "      <td>...</td>\n",
       "      <td>...</td>\n",
       "    </tr>\n",
       "    <tr>\n",
       "      <th>4995</th>\n",
       "      <td>AVqkIdZiv8e3D1O-leaJ</td>\n",
       "      <td>Electronics</td>\n",
       "      <td>5.0</td>\n",
       "      <td>This is a great tablet for the price. Amazon i...</td>\n",
       "    </tr>\n",
       "    <tr>\n",
       "      <th>4996</th>\n",
       "      <td>AVqkIdZiv8e3D1O-leaJ</td>\n",
       "      <td>Electronics</td>\n",
       "      <td>5.0</td>\n",
       "      <td>This tablet is the perfect size and so easy to...</td>\n",
       "    </tr>\n",
       "    <tr>\n",
       "      <th>4997</th>\n",
       "      <td>AVqkIdZiv8e3D1O-leaJ</td>\n",
       "      <td>Electronics</td>\n",
       "      <td>4.0</td>\n",
       "      <td>Purchased this for my son. Has room to upgrade...</td>\n",
       "    </tr>\n",
       "    <tr>\n",
       "      <th>4998</th>\n",
       "      <td>AVqkIdZiv8e3D1O-leaJ</td>\n",
       "      <td>Electronics</td>\n",
       "      <td>5.0</td>\n",
       "      <td>I had some thoughts about getting this for a 5...</td>\n",
       "    </tr>\n",
       "    <tr>\n",
       "      <th>4999</th>\n",
       "      <td>AVqkIdZiv8e3D1O-leaJ</td>\n",
       "      <td>Electronics</td>\n",
       "      <td>5.0</td>\n",
       "      <td>this is a steal, have 8 gb model as well.This ...</td>\n",
       "    </tr>\n",
       "  </tbody>\n",
       "</table>\n",
       "<p>67992 rows × 4 columns</p>\n",
       "</div>"
      ],
      "text/plain": [
       "                        id primaryCategories  reviews_rating  \\\n",
       "0     AVpgNzjwLJeJML43Kpxn   Health & Beauty             3.0   \n",
       "1     AVpgNzjwLJeJML43Kpxn   Health & Beauty             4.0   \n",
       "2     AVpgNzjwLJeJML43Kpxn   Health & Beauty             5.0   \n",
       "3     AVpgNzjwLJeJML43Kpxn   Health & Beauty             5.0   \n",
       "4     AVpgNzjwLJeJML43Kpxn   Health & Beauty             5.0   \n",
       "...                    ...               ...             ...   \n",
       "4995  AVqkIdZiv8e3D1O-leaJ       Electronics             5.0   \n",
       "4996  AVqkIdZiv8e3D1O-leaJ       Electronics             5.0   \n",
       "4997  AVqkIdZiv8e3D1O-leaJ       Electronics             4.0   \n",
       "4998  AVqkIdZiv8e3D1O-leaJ       Electronics             5.0   \n",
       "4999  AVqkIdZiv8e3D1O-leaJ       Electronics             5.0   \n",
       "\n",
       "                                           reviews_text  \n",
       "0     I order 3 of them and one of the item is bad q...  \n",
       "1     Bulk is always the less expensive way to go fo...  \n",
       "2     Well they are not Duracell but for the price i...  \n",
       "3     Seem to work as well as name brand batteries a...  \n",
       "4     These batteries are very long lasting the pric...  \n",
       "...                                                 ...  \n",
       "4995  This is a great tablet for the price. Amazon i...  \n",
       "4996  This tablet is the perfect size and so easy to...  \n",
       "4997  Purchased this for my son. Has room to upgrade...  \n",
       "4998  I had some thoughts about getting this for a 5...  \n",
       "4999  this is a steal, have 8 gb model as well.This ...  \n",
       "\n",
       "[67992 rows x 4 columns]"
      ]
     },
     "execution_count": 2,
     "metadata": {},
     "output_type": "execute_result"
    }
   ],
   "source": [
    "electric = pd.concat([electric_product,electric_product1,electric_product2])\r\n",
    "electric"
   ]
  },
  {
   "cell_type": "code",
   "execution_count": 14,
   "metadata": {},
   "outputs": [
    {
     "name": "stdout",
     "output_type": "stream",
     "text": [
      "2.5.0\n"
     ]
    }
   ],
   "source": [
    "\r\n",
    "print(tf.__version__)\r\n",
    "#policy = mixed_precision.Policy('mixed_float16')\r\n",
    "#mixed_precision.set_policy(policy)"
   ]
  },
  {
   "cell_type": "code",
   "execution_count": 16,
   "metadata": {},
   "outputs": [
    {
     "name": "stdout",
     "output_type": "stream",
     "text": [
      "Please install GPU version of TF\n"
     ]
    }
   ],
   "source": [
    "if tf.test.gpu_device_name(): \r\n",
    "    print('Default GPU Device:{}'.format(tf.test.gpu_device_name()))\r\n",
    "\r\n",
    "else:\r\n",
    "    print(\"Please install GPU version of TF\")"
   ]
  },
  {
   "cell_type": "code",
   "execution_count": 9,
   "metadata": {},
   "outputs": [],
   "source": [
    "def clean_text(text ): \r\n",
    "    delete_dict = {sp_character: '' for sp_character in string.punctuation} \r\n",
    "    delete_dict[' '] = ' ' \r\n",
    "    table = str.maketrans(delete_dict)\r\n",
    "    text1 = text.translate(table)\r\n",
    "    #print('cleaned:'+text1)\r\n",
    "    textArr= text1.split()\r\n",
    "    text2 = ' '.join([w for w in textArr if ( not w.isdigit() and  ( not w.isdigit() and len(w)>2))]) \r\n",
    "    \r\n",
    "    return text2.lower()"
   ]
  },
  {
   "cell_type": "code",
   "execution_count": 10,
   "metadata": {},
   "outputs": [
    {
     "name": "stdout",
     "output_type": "stream",
     "text": [
      "                     id primaryCategories  reviews_rating  \\\n",
      "0  AVpgNzjwLJeJML43Kpxn   Health & Beauty             3.0   \n",
      "1  AVpgNzjwLJeJML43Kpxn   Health & Beauty             4.0   \n",
      "2  AVpgNzjwLJeJML43Kpxn   Health & Beauty             5.0   \n",
      "3  AVpgNzjwLJeJML43Kpxn   Health & Beauty             5.0   \n",
      "4  AVpgNzjwLJeJML43Kpxn   Health & Beauty             5.0   \n",
      "5  AVpgNzjwLJeJML43Kpxn   Health & Beauty             5.0   \n",
      "6  AVpgNzjwLJeJML43Kpxn   Health & Beauty             5.0   \n",
      "7  AVpgNzjwLJeJML43Kpxn   Health & Beauty             5.0   \n",
      "8  AVpgNzjwLJeJML43Kpxn   Health & Beauty             3.0   \n",
      "9  AVpgNzjwLJeJML43Kpxn   Health & Beauty             4.0   \n",
      "\n",
      "                                        reviews_text  \n",
      "0  I order 3 of them and one of the item is bad q...  \n",
      "1  Bulk is always the less expensive way to go fo...  \n",
      "2  Well they are not Duracell but for the price i...  \n",
      "3  Seem to work as well as name brand batteries a...  \n",
      "4  These batteries are very long lasting the pric...  \n",
      "5  Bought a lot of batteries for Christmas and th...  \n",
      "6  ive not had any problame with these batteries ...  \n",
      "7  Well if you are looking for cheap non-recharge...  \n",
      "8  These do not hold the amount of high power jui...  \n",
      "9  AmazonBasics AA AAA batteries have done well b...  \n",
      "67992\n",
      "Unique Products\n",
      "92\n"
     ]
    }
   ],
   "source": [
    "print(electric.head(10))\r\n",
    "print(len(electric))\r\n",
    "print('Unique Products')\r\n",
    "print(len(electric.groupby('id')))"
   ]
  },
  {
   "cell_type": "code",
   "execution_count": 11,
   "metadata": {},
   "outputs": [],
   "source": [
    "\r\n",
    "electric.dropna(axis = 0, how ='any',inplace=True)\r\n",
    "electric['reviews_text'] = electric['reviews_text'].apply(clean_text)\r\n",
    "# electric['reviews_text'] = electric['reviews_text'].apply(remove_url)\r\n",
    "electric['Num_words_text'] = electric['reviews_text'].apply(lambda x:len(str(x).split()))"
   ]
  },
  {
   "cell_type": "code",
   "execution_count": 12,
   "metadata": {},
   "outputs": [
    {
     "name": "stdout",
     "output_type": "stream",
     "text": [
      "-------Dataset --------\n",
      "5.0    47149\n",
      "4.0    15397\n",
      "3.0     2902\n",
      "1.0     1438\n",
      "2.0     1072\n",
      "Name: reviews_rating, dtype: int64\n",
      "67958\n",
      "-------------------------\n",
      "Train Max Sentence Length :1455\n"
     ]
    }
   ],
   "source": [
    "print('-------Dataset --------')\r\n",
    "print(electric['reviews_rating'].value_counts())\r\n",
    "print(len(electric))\r\n",
    "print('-------------------------')\r\n",
    "max_electric_sentence_length  = electric['Num_words_text'].max()\r\n",
    "\r\n",
    "print('Train Max Sentence Length :'+str(max_electric_sentence_length))\r\n",
    "\r\n",
    "\r\n",
    "#all_sentences = train_data['text'].tolist() + test_data['text'].tolist()"
   ]
  },
  {
   "cell_type": "code",
   "execution_count": 13,
   "metadata": {},
   "outputs": [
    {
     "data": {
      "text/plain": [
       "count    67958.000000\n",
       "mean        21.782778\n",
       "std         27.700945\n",
       "min          0.000000\n",
       "25%          9.000000\n",
       "50%         15.000000\n",
       "75%         26.000000\n",
       "max       1455.000000\n",
       "Name: Num_words_text, dtype: float64"
      ]
     },
     "execution_count": 13,
     "metadata": {},
     "output_type": "execute_result"
    }
   ],
   "source": [
    "electric['Num_words_text'].describe()"
   ]
  },
  {
   "cell_type": "code",
   "execution_count": 14,
   "metadata": {},
   "outputs": [
    {
     "data": {
      "text/plain": [
       "<AxesSubplot:xlabel='Num_words_text'>"
      ]
     },
     "execution_count": 14,
     "metadata": {},
     "output_type": "execute_result"
    },
    {
     "data": {
      "image/png": "[encoded data removed]",
      "text/plain": [
       "<Figure size 432x288 with 1 Axes>"
      ]
     },
     "metadata": {},
     "output_type": "display_data"
    }
   ],
   "source": [
    "sns.set(style=\"whitegrid\")\r\n",
    "sns.boxplot(x=electric['Num_words_text'])"
   ]
  },
  {
   "cell_type": "code",
   "execution_count": 15,
   "metadata": {},
   "outputs": [
    {
     "name": "stdout",
     "output_type": "stream",
     "text": [
      "No of Short reviews\n",
      "23414\n",
      "No of Long reviews\n",
      "1002\n"
     ]
    }
   ],
   "source": [
    "mask = (electric['Num_words_text'] < 100) & (electric['Num_words_text'] >=20)\r\n",
    "electric_short_reviews = electric[mask]\r\n",
    "print('No of Short reviews')\r\n",
    "print(len(electric_short_reviews))\r\n",
    "\r\n",
    "mask = electric['Num_words_text'] >= 100\r\n",
    "electric_long_reviews = electric[mask]\r\n",
    "print('No of Long reviews')\r\n",
    "print(len(electric_long_reviews))"
   ]
  },
  {
   "cell_type": "code",
   "execution_count": 16,
   "metadata": {},
   "outputs": [
    {
     "name": "stdout",
     "output_type": "stream",
     "text": [
      "99\n"
     ]
    }
   ],
   "source": [
    "print(electric_short_reviews['Num_words_text'].max())"
   ]
  },
  {
   "cell_type": "code",
   "execution_count": 17,
   "metadata": {},
   "outputs": [],
   "source": [
    "def get_sentiment(rating):\r\n",
    "    if rating == 5 or rating == 4 or rating ==3:\r\n",
    "        return 1\r\n",
    "    else:\r\n",
    "        return 0"
   ]
  },
  {
   "cell_type": "code",
   "execution_count": 18,
   "metadata": {},
   "outputs": [
    {
     "name": "stdout",
     "output_type": "stream",
     "text": [
      "23247\n",
      "5.0    14943\n",
      "4.0     5867\n",
      "3.0     1224\n",
      "1.0      670\n",
      "2.0      543\n",
      "Name: reviews_rating, dtype: int64\n",
      "Train data\n",
      "1    22034\n",
      "0     1213\n",
      "Name: sentiment, dtype: int64\n",
      "23307\n",
      "5.0    14975\n",
      "4.0     5883\n",
      "3.0     1227\n",
      "1.0      675\n",
      "2.0      547\n",
      "Name: reviews_rating, dtype: int64\n",
      "Test data\n",
      "1    22085\n",
      "0     1222\n",
      "Name: sentiment, dtype: int64\n"
     ]
    }
   ],
   "source": [
    "electric_short_reviews['reviews_rating'].value_counts()\r\n",
    "filtered_data = electric_short_reviews.groupby('id').filter(lambda x: len(x) >= 20)\r\n",
    "print(len(filtered_data))\r\n",
    "print(filtered_data ['reviews_rating'].value_counts())\r\n",
    "filtered_data ['sentiment'] = filtered_data ['reviews_rating'].apply(get_sentiment)\r\n",
    "#train_data = electric_short_reviews.sample(n=30000, random_state =0)\r\n",
    "train_data = filtered_data[['reviews_text','sentiment']]\r\n",
    "print('Train data')\r\n",
    "print(train_data['sentiment'].value_counts())\r\n",
    "\r\n",
    "\r\n",
    "#Create Test Data\r\n",
    "mask = electric['Num_words_text'] < 100 \r\n",
    "df_short_reviews = electric[mask]\r\n",
    "filtered_data = electric_short_reviews.groupby('id').filter(lambda x: len(x) >= 10)\r\n",
    "print(len(filtered_data))\r\n",
    "print(filtered_data ['reviews_rating'].value_counts())\r\n",
    "filtered_data ['sentiment'] = filtered_data ['reviews_rating'].apply(get_sentiment)\r\n",
    "#train_data = df_short_reviews.sample(n=200000, random_state =0)\r\n",
    "test_data = filtered_data[['reviews_text','sentiment']]\r\n",
    "print('Test data')\r\n",
    "print(test_data['sentiment'].value_counts())"
   ]
  },
  {
   "cell_type": "code",
   "execution_count": 19,
   "metadata": {},
   "outputs": [
    {
     "data": {
      "text/plain": [
       "1    22034\n",
       "0     1213\n",
       "Name: sentiment, dtype: int64"
      ]
     },
     "execution_count": 19,
     "metadata": {},
     "output_type": "execute_result"
    }
   ],
   "source": [
    "train_data['sentiment'].value_counts()"
   ]
  },
  {
   "cell_type": "code",
   "execution_count": 20,
   "metadata": {},
   "outputs": [
    {
     "name": "stdout",
     "output_type": "stream",
     "text": [
      "Train data len:11623\n",
      "Class distributionCounter({1: 11017, 0: 606})\n",
      "Valid data len:11624\n",
      "Class distributionCounter({1: 11017, 0: 607})\n"
     ]
    }
   ],
   "source": [
    "X_train, X_valid, y_train, y_valid = train_test_split(train_data['reviews_text'].tolist(),\\\r\n",
    "                                                      train_data['sentiment'].tolist(),\\\r\n",
    "                                                      test_size=0.5,\\\r\n",
    "                                                      stratify = train_data['sentiment'].tolist(),\\\r\n",
    "                                                      random_state=0)\r\n",
    "\r\n",
    "\r\n",
    "print('Train data len:'+str(len(X_train)))\r\n",
    "print('Class distribution'+str(Counter(y_train)))\r\n",
    "print('Valid data len:'+str(len(X_valid)))\r\n",
    "print('Class distribution'+ str(Counter(y_valid)))"
   ]
  },
  {
   "cell_type": "code",
   "execution_count": 22,
   "metadata": {},
   "outputs": [
    {
     "name": "stdout",
     "output_type": "stream",
     "text": [
      "[[1, 96, 18, 12]]\n"
     ]
    }
   ],
   "source": [
    "num_words = 90000\r\n",
    "\r\n",
    "tokenizer = Tokenizer(num_words=num_words,oov_token=\"unk\")\r\n",
    "tokenizer.fit_on_texts(X_train)\r\n",
    "\r\n",
    "\r\n",
    "print(str(tokenizer.texts_to_sequences(['xyz how are you'])))"
   ]
  },
  {
   "cell_type": "code",
   "execution_count": 23,
   "metadata": {},
   "outputs": [
    {
     "name": "stdout",
     "output_type": "stream",
     "text": [
      "Train data len:11623\n",
      "Class distributionCounter({1: 11017, 0: 606})\n",
      "Validation data len:11624\n",
      "Class distributionCounter({1: 11017, 0: 607})\n",
      "Test data len:23307\n",
      "Class distributionCounter({1: 22085, 0: 1222})\n"
     ]
    }
   ],
   "source": [
    "x_train = np.array( tokenizer.texts_to_sequences(X_train) )\r\n",
    "x_valid = np.array( tokenizer.texts_to_sequences(X_valid) )\r\n",
    "x_test  = np.array( tokenizer.texts_to_sequences(test_data['reviews_text'].tolist()) )\r\n",
    "\r\n",
    "\r\n",
    "\r\n",
    "x_train = pad_sequences(x_train, padding='post', maxlen=100)\r\n",
    "x_valid = pad_sequences(x_valid, padding='post', maxlen=100)\r\n",
    "x_test = pad_sequences(x_test, padding='post', maxlen=100)\r\n",
    "\r\n",
    "\r\n",
    "\r\n",
    "train_labels = np.asarray(y_train )\r\n",
    "valid_labels = np.asarray( y_valid)\r\n",
    "\r\n",
    "test_labels = np.asarray(test_data['sentiment'].tolist())\r\n",
    "\r\n",
    "print('Train data len:'+str(len(x_train)))\r\n",
    "print('Class distribution'+str(Counter(train_labels)))\r\n",
    "\r\n",
    "print('Validation data len:'+str(len(x_valid)))\r\n",
    "print('Class distribution'+str(Counter(valid_labels)))\r\n",
    "\r\n",
    "print('Test data len:'+str(len(x_test)))\r\n",
    "print('Class distribution'+str(Counter(test_labels)))\r\n",
    "\r\n",
    "\r\n",
    "train_ds = tf.data.Dataset.from_tensor_slices((x_train,train_labels))\r\n",
    "valid_ds = tf.data.Dataset.from_tensor_slices((x_valid,valid_labels))\r\n",
    "test_ds = tf.data.Dataset.from_tensor_slices((x_test,test_labels))"
   ]
  },
  {
   "cell_type": "code",
   "execution_count": 24,
   "metadata": {},
   "outputs": [
    {
     "name": "stdout",
     "output_type": "stream",
     "text": [
      "Model: \"sequential\"\n",
      "_________________________________________________________________\n",
      "Layer (type)                 Output Shape              Param #   \n",
      "=================================================================\n",
      "embedding (Embedding)        (None, 100, 16)           800016    \n",
      "_________________________________________________________________\n",
      "dropout (Dropout)            (None, 100, 16)           0         \n",
      "_________________________________________________________________\n",
      "lstm (LSTM)                  (None, 100, 16)           2112      \n",
      "_________________________________________________________________\n",
      "flatten (Flatten)            (None, 1600)              0         \n",
      "_________________________________________________________________\n",
      "dense (Dense)                (None, 512)               819712    \n",
      "_________________________________________________________________\n",
      "dropout_1 (Dropout)          (None, 512)               0         \n",
      "_________________________________________________________________\n",
      "dense_1 (Dense)              (None, 8)                 4104      \n",
      "_________________________________________________________________\n",
      "dropout_2 (Dropout)          (None, 8)                 0         \n",
      "_________________________________________________________________\n",
      "dense_2 (Dense)              (None, 1)                 9         \n",
      "=================================================================\n",
      "Total params: 1,625,953\n",
      "Trainable params: 1,625,953\n",
      "Non-trainable params: 0\n",
      "_________________________________________________________________\n"
     ]
    }
   ],
   "source": [
    "max_features =50000\r\n",
    "embedding_dim =16\r\n",
    "sequence_length = 100\r\n",
    "\r\n",
    "model = tf.keras.Sequential()\r\n",
    "model.add(tf.keras.layers.Embedding(max_features +1, embedding_dim, input_length=sequence_length,\\\r\n",
    "                                    embeddings_regularizer = regularizers.l2(0.005))) \r\n",
    "model.add(tf.keras.layers.Dropout(0.4))\r\n",
    "\r\n",
    "model.add(tf.keras.layers.LSTM(embedding_dim,dropout=0.2, recurrent_dropout=0.2,return_sequences=True,\\\r\n",
    "                                                             kernel_regularizer=regularizers.l2(0.005),\\\r\n",
    "                                                             bias_regularizer=regularizers.l2(0.005)))\r\n",
    "\r\n",
    "model.add(tf.keras.layers.Flatten())\r\n",
    "\r\n",
    "model.add(tf.keras.layers.Dense(512, activation='relu',\\\r\n",
    "                                kernel_regularizer=regularizers.l2(0.001),\\\r\n",
    "                                bias_regularizer=regularizers.l2(0.001),))\r\n",
    "model.add(tf.keras.layers.Dropout(0.4))\r\n",
    "\r\n",
    "model.add(tf.keras.layers.Dense(8, activation='relu',\\\r\n",
    "                                kernel_regularizer=regularizers.l2(0.001),\\\r\n",
    "                                bias_regularizer=regularizers.l2(0.001),))\r\n",
    "model.add(tf.keras.layers.Dropout(0.4))\r\n",
    "\r\n",
    "\r\n",
    "model.add(tf.keras.layers.Dense(1,activation='sigmoid'))\r\n",
    "                               \r\n",
    "\r\n",
    "\r\n",
    "\r\n",
    "model.summary()\r\n",
    "model.compile(loss=tf.keras.losses.BinaryCrossentropy(),optimizer=tf.keras.optimizers.Adam(1e-3),metrics=[tf.keras.metrics.BinaryAccuracy()])"
   ]
  },
  {
   "cell_type": "code",
   "execution_count": 27,
   "metadata": {},
   "outputs": [
    {
     "name": "stdout",
     "output_type": "stream",
     "text": [
      "('You must install pydot (`pip install pydot`) and install graphviz (see instructions at https://graphviz.gitlab.io/download/) ', 'for plot_model/model_to_dot to work.')\n"
     ]
    }
   ],
   "source": [
    "tf.keras.utils.plot_model(model, \"multi_input_and_output_model.png\", show_shapes=True)"
   ]
  },
  {
   "cell_type": "code",
   "execution_count": 30,
   "metadata": {},
   "outputs": [
    {
     "name": "stdout",
     "output_type": "stream",
     "text": [
      "Epoch 1/12\n",
      "12/12 [==============================] - 11s 918ms/step - loss: 0.2901 - binary_accuracy: 0.9524 - val_loss: 0.2661 - val_binary_accuracy: 0.9557\n",
      "Epoch 2/12\n",
      "12/12 [==============================] - 8s 690ms/step - loss: 0.2694 - binary_accuracy: 0.9566 - val_loss: 0.2623 - val_binary_accuracy: 0.9558\n",
      "Epoch 3/12\n",
      "12/12 [==============================] - 8s 675ms/step - loss: 0.2574 - binary_accuracy: 0.9604 - val_loss: 0.2686 - val_binary_accuracy: 0.9586\n",
      "Epoch 4/12\n",
      "12/12 [==============================] - 7s 618ms/step - loss: 0.2416 - binary_accuracy: 0.9615 - val_loss: 0.2490 - val_binary_accuracy: 0.9616\n",
      "Epoch 5/12\n",
      "12/12 [==============================] - 8s 630ms/step - loss: 0.2288 - binary_accuracy: 0.9667 - val_loss: 0.2619 - val_binary_accuracy: 0.9624\n",
      "Epoch 6/12\n",
      "12/12 [==============================] - 8s 662ms/step - loss: 0.2243 - binary_accuracy: 0.9685 - val_loss: 0.2337 - val_binary_accuracy: 0.9642\n",
      "Epoch 7/12\n",
      "12/12 [==============================] - 7s 611ms/step - loss: 0.2168 - binary_accuracy: 0.9709 - val_loss: 0.2292 - val_binary_accuracy: 0.9627\n",
      "Epoch 8/12\n",
      "12/12 [==============================] - 7s 596ms/step - loss: 0.2079 - binary_accuracy: 0.9725 - val_loss: 0.2451 - val_binary_accuracy: 0.9620\n",
      "Epoch 9/12\n",
      "12/12 [==============================] - 8s 680ms/step - loss: 0.1974 - binary_accuracy: 0.9731 - val_loss: 0.2339 - val_binary_accuracy: 0.9638\n",
      "Epoch 10/12\n",
      "12/12 [==============================] - 10s 791ms/step - loss: 0.1951 - binary_accuracy: 0.9737 - val_loss: 0.2308 - val_binary_accuracy: 0.9532\n",
      "Epoch 11/12\n",
      "12/12 [==============================] - 8s 612ms/step - loss: 0.1971 - binary_accuracy: 0.9725 - val_loss: 0.2447 - val_binary_accuracy: 0.9644\n",
      "Epoch 12/12\n",
      "12/12 [==============================] - 9s 727ms/step - loss: 0.1867 - binary_accuracy: 0.9730 - val_loss: 0.2470 - val_binary_accuracy: 0.9657\n"
     ]
    }
   ],
   "source": [
    "epochs = 12\r\n",
    "# Fit the model using the train and test datasets.\r\n",
    "#history = model.fit(x_train, train_labels,validation_data= (x_test,test_labels),epochs=epochs )\r\n",
    "history = model.fit(train_ds.shuffle(5000).batch(1024),\r\n",
    "                    epochs= epochs ,\r\n",
    "                    validation_data=valid_ds.batch(1024),\r\n",
    "                    verbose=1)"
   ]
  },
  {
   "cell_type": "code",
   "execution_count": 92,
   "metadata": {},
   "outputs": [
    {
     "data": {
      "text/plain": [
       "{'loss': [3.6862642765045166,\n",
       "  1.8537548780441284,\n",
       "  0.9809419512748718,\n",
       "  0.6105042099952698,\n",
       "  0.4567923843860626,\n",
       "  0.39322230219841003,\n",
       "  0.3467240035533905,\n",
       "  0.3092344105243683,\n",
       "  0.28134459257125854,\n",
       "  0.25565242767333984],\n",
       " 'binary_accuracy': [0.938398003578186,\n",
       "  0.9478619694709778,\n",
       "  0.9478619694709778,\n",
       "  0.9478619694709778,\n",
       "  0.9478619694709778,\n",
       "  0.9478619694709778,\n",
       "  0.9478619694709778,\n",
       "  0.9482921957969666,\n",
       "  0.9531102180480957,\n",
       "  0.9597350358963013],\n",
       " 'val_loss': [2.4328842163085938,\n",
       "  1.2176071405410767,\n",
       "  0.683634877204895,\n",
       "  0.4732134938240051,\n",
       "  0.3916155993938446,\n",
       "  0.3462780714035034,\n",
       "  0.31877759099006653,\n",
       "  0.2914365530014038,\n",
       "  0.2713083326816559,\n",
       "  0.2607590854167938],\n",
       " 'val_binary_accuracy': [0.947780430316925,\n",
       "  0.947780430316925,\n",
       "  0.947780430316925,\n",
       "  0.947780430316925,\n",
       "  0.947780430316925,\n",
       "  0.947780430316925,\n",
       "  0.947780430316925,\n",
       "  0.947780430316925,\n",
       "  0.9575017094612122,\n",
       "  0.958448052406311]}"
      ]
     },
     "execution_count": 92,
     "metadata": {},
     "output_type": "execute_result"
    }
   ],
   "source": [
    "history.history"
   ]
  },
  {
   "cell_type": "code",
   "execution_count": 93,
   "metadata": {},
   "outputs": [
    {
     "data": {
      "image/png": "[encoded data removed]",
      "text/plain": [
       "<Figure size 1152x1152 with 1 Axes>"
      ]
     },
     "metadata": {},
     "output_type": "display_data"
    }
   ],
   "source": [
    "plt.plot(history.history['loss'], label=' training data')\r\n",
    "plt.plot(history.history['val_loss'], label='validation data')\r\n",
    "plt.title('Loss for Text Classification')\r\n",
    "plt.ylabel('Loss value')\r\n",
    "plt.xlabel('No. epoch')\r\n",
    "plt.legend(loc=\"upper left\")\r\n",
    "plt.show()"
   ]
  },
  {
   "cell_type": "code",
   "execution_count": 94,
   "metadata": {},
   "outputs": [
    {
     "data": {
      "image/png": "[encoded data removed]",
      "text/plain": [
       "<Figure size 1152x1152 with 1 Axes>"
      ]
     },
     "metadata": {},
     "output_type": "display_data"
    }
   ],
   "source": [
    "plt.plot(history.history['binary_accuracy'], label=' training data')\r\n",
    "plt.plot(history.history['val_binary_accuracy'], label='validation data')\r\n",
    "plt.title('Accuracy for Text Classification')\r\n",
    "plt.ylabel('Accuracy value')\r\n",
    "plt.xlabel('No. epoch')\r\n",
    "plt.legend(loc=\"upper left\")\r\n",
    "plt.show()"
   ]
  },
  {
   "cell_type": "code",
   "execution_count": 95,
   "metadata": {},
   "outputs": [],
   "source": [
    "model.save('C:\\\\Users\\\\vikar\\\\Desktop\\\\Viraj Karkar\\\\Technocolab\\\\Supervised ML Task-1\\\\savedTFLSTMModel\\\\tf_lstmmodel.h5') \r\n",
    "json_string = tokenizer.to_json()"
   ]
  },
  {
   "cell_type": "code",
   "execution_count": 96,
   "metadata": {},
   "outputs": [],
   "source": [
    "import json\r\n",
    "with open('C:\\\\Users\\\\vikar\\\\Desktop\\\\Viraj Karkar\\\\Technocolab\\\\Supervised ML Task-1\\\\savedTFLSTMModel\\\\tokenizer.json', 'w') as outfile:\r\n",
    "    json.dump(json_string, outfile)"
   ]
  },
  {
   "cell_type": "code",
   "execution_count": 97,
   "metadata": {},
   "outputs": [],
   "source": [
    "valid_predict= model.predict(x_valid)"
   ]
  },
  {
   "cell_type": "code",
   "execution_count": 98,
   "metadata": {},
   "outputs": [
    {
     "name": "stdout",
     "output_type": "stream",
     "text": [
      "[[0.99901026]\n",
      " [0.9966001 ]\n",
      " [0.99943626]\n",
      " [0.9999377 ]\n",
      " [0.9950373 ]\n",
      " [0.9995741 ]\n",
      " [0.9870837 ]\n",
      " [0.99999833]\n",
      " [0.9996746 ]\n",
      " [0.99335444]]\n"
     ]
    }
   ],
   "source": [
    "print(valid_predict[:10])"
   ]
  },
  {
   "cell_type": "code",
   "execution_count": 99,
   "metadata": {},
   "outputs": [],
   "source": [
    "def plot_roc(name, labels, predictions, **kwargs):\r\n",
    "    fp, tp, thresholds = sklearn.metrics.roc_curve(labels, predictions)\r\n",
    "    plt.plot(fp, tp, label=name, linewidth=2, **kwargs)\r\n",
    "    plt.xlabel('False positives Rate')\r\n",
    "    plt.ylabel('True positives Rate')\r\n",
    "    plt.xlim([-0.03, 1.0])\r\n",
    "    plt.ylim([0.0, 1.03])\r\n",
    "    plt.grid(True)\r\n",
    "    thresholdsLength = len(thresholds)\r\n",
    "    thresholds_every = 1000\r\n",
    "    colorMap = plt.get_cmap('jet', thresholdsLength)\r\n",
    "    for i in range(0, thresholdsLength, thresholds_every):\r\n",
    "        threshold_value_with_max_four_decimals = str(thresholds[i])[:5]\r\n",
    "        plt.text(fp[i] - 0.03, tp[i] + 0.001, threshold_value_with_max_four_decimals, fontdict={'size': 15}, color=colorMap(i/thresholdsLength));\r\n",
    "\r\n",
    "    ax = plt.gca()\r\n",
    "    ax.set_aspect('equal')"
   ]
  },
  {
   "cell_type": "code",
   "execution_count": 100,
   "metadata": {},
   "outputs": [],
   "source": [
    "mpl.rcParams['figure.figsize'] = (16, 16)\r\n",
    "\r\n",
    "colors = plt.rcParams['axes.prop_cycle'].by_key()['color']"
   ]
  },
  {
   "cell_type": "code",
   "execution_count": 101,
   "metadata": {},
   "outputs": [
    {
     "data": {
      "text/plain": [
       "<matplotlib.legend.Legend at 0x1e089fab220>"
      ]
     },
     "execution_count": 101,
     "metadata": {},
     "output_type": "execute_result"
    },
    {
     "data": {
      "image/png": "[encoded data removed]",
      "text/plain": [
       "<Figure size 1152x1152 with 1 Axes>"
      ]
     },
     "metadata": {},
     "output_type": "display_data"
    }
   ],
   "source": [
    "\r\n",
    "plot_roc(\"Valid Baseline\", valid_labels, valid_predict, color=colors[0], linestyle='--')\r\n",
    "plt.legend(loc='lower right')"
   ]
  },
  {
   "cell_type": "code",
   "execution_count": 102,
   "metadata": {},
   "outputs": [
    {
     "name": "stdout",
     "output_type": "stream",
     "text": [
      "Model: \"sequential_3\"\n",
      "_________________________________________________________________\n",
      "Layer (type)                 Output Shape              Param #   \n",
      "=================================================================\n",
      "embedding_3 (Embedding)      (None, 100, 16)           800016    \n",
      "_________________________________________________________________\n",
      "dropout_9 (Dropout)          (None, 100, 16)           0         \n",
      "_________________________________________________________________\n",
      "lstm_3 (LSTM)                (None, 100, 16)           2112      \n",
      "_________________________________________________________________\n",
      "flatten_3 (Flatten)          (None, 1600)              0         \n",
      "_________________________________________________________________\n",
      "dense_9 (Dense)              (None, 512)               819712    \n",
      "_________________________________________________________________\n",
      "dropout_10 (Dropout)         (None, 512)               0         \n",
      "_________________________________________________________________\n",
      "dense_10 (Dense)             (None, 8)                 4104      \n",
      "_________________________________________________________________\n",
      "dropout_11 (Dropout)         (None, 8)                 0         \n",
      "_________________________________________________________________\n",
      "dense_11 (Dense)             (None, 1)                 9         \n",
      "=================================================================\n",
      "Total params: 1,625,953\n",
      "Trainable params: 1,625,953\n",
      "Non-trainable params: 0\n",
      "_________________________________________________________________\n"
     ]
    }
   ],
   "source": [
    "new_model = tf.keras.models.load_model(\"C:\\\\Users\\\\vikar\\\\Desktop\\\\Viraj Karkar\\\\Technocolab\\\\Supervised ML Task-1\\\\savedTFLSTMModel\\\\tf_lstmmodel.h5\")\r\n",
    "new_model.summary()"
   ]
  },
  {
   "cell_type": "code",
   "execution_count": 103,
   "metadata": {},
   "outputs": [],
   "source": [
    "with open('C:\\\\Users\\\\vikar\\\\Desktop\\\\Viraj Karkar\\\\Technocolab\\\\Supervised ML Task-1\\\\savedTFLSTMModel\\\\tokenizer.json') as json_file:\r\n",
    "    json_string = json.load(json_file)\r\n",
    "tokenizer1 = tf.keras.preprocessing.text.tokenizer_from_json(json_string)"
   ]
  },
  {
   "cell_type": "code",
   "execution_count": 104,
   "metadata": {},
   "outputs": [
    {
     "name": "stderr",
     "output_type": "stream",
     "text": [
      "<ipython-input-104-f3ca7118897a>:1: VisibleDeprecationWarning: Creating an ndarray from ragged nested sequences (which is a list-or-tuple of lists-or-tuples-or ndarrays with different lengths or shapes) is deprecated. If you meant to do this, you must specify 'dtype=object' when creating the ndarray\n",
      "  x_test  = np.array( tokenizer.texts_to_sequences(test_data['reviews_text'].tolist()) )\n"
     ]
    }
   ],
   "source": [
    "x_test  = np.array( tokenizer.texts_to_sequences(test_data['reviews_text'].tolist()) )\r\n",
    "x_test = pad_sequences(x_test, padding='post', maxlen=100)"
   ]
  },
  {
   "cell_type": "code",
   "execution_count": 105,
   "metadata": {},
   "outputs": [
    {
     "name": "stdout",
     "output_type": "stream",
     "text": [
      "Generate predictions for all samples\n"
     ]
    }
   ],
   "source": [
    "# Generate predictions (probabilities -- the output of the last layer)\r\n",
    "# on test  data using `predict`\r\n",
    "print(\"Generate predictions for all samples\")\r\n",
    "predictions = new_model.predict(x_test)"
   ]
  },
  {
   "cell_type": "code",
   "execution_count": 106,
   "metadata": {},
   "outputs": [
    {
     "name": "stderr",
     "output_type": "stream",
     "text": [
      "<ipython-input-106-570b55e7850f>:1: SettingWithCopyWarning: \n",
      "A value is trying to be set on a copy of a slice from a DataFrame.\n",
      "Try using .loc[row_indexer,col_indexer] = value instead\n",
      "\n",
      "See the caveats in the documentation: https://pandas.pydata.org/pandas-docs/stable/user_guide/indexing.html#returning-a-view-versus-a-copy\n",
      "  test_data['pred_sentiment']= predictions\n",
      "<ipython-input-106-570b55e7850f>:2: SettingWithCopyWarning: \n",
      "A value is trying to be set on a copy of a slice from a DataFrame.\n",
      "Try using .loc[row_indexer,col_indexer] = value instead\n",
      "\n",
      "See the caveats in the documentation: https://pandas.pydata.org/pandas-docs/stable/user_guide/indexing.html#returning-a-view-versus-a-copy\n",
      "  test_data['pred_sentiment'] = np.where((test_data.pred_sentiment >= 0.78),1,test_data.pred_sentiment)\n",
      "<ipython-input-106-570b55e7850f>:3: SettingWithCopyWarning: \n",
      "A value is trying to be set on a copy of a slice from a DataFrame.\n",
      "Try using .loc[row_indexer,col_indexer] = value instead\n",
      "\n",
      "See the caveats in the documentation: https://pandas.pydata.org/pandas-docs/stable/user_guide/indexing.html#returning-a-view-versus-a-copy\n",
      "  test_data['pred_sentiment'] = np.where((test_data.pred_sentiment < 0.78),0,test_data.pred_sentiment)\n"
     ]
    }
   ],
   "source": [
    "test_data['pred_sentiment']= predictions\r\n",
    "test_data['pred_sentiment'] = np.where((test_data.pred_sentiment >= 0.78),1,test_data.pred_sentiment)\r\n",
    "test_data['pred_sentiment'] = np.where((test_data.pred_sentiment < 0.78),0,test_data.pred_sentiment)"
   ]
  },
  {
   "cell_type": "code",
   "execution_count": 107,
   "metadata": {},
   "outputs": [
    {
     "name": "stdout",
     "output_type": "stream",
     "text": [
      "              precision    recall  f1-score   support\n",
      "\n",
      "           0       0.51      0.83      0.63      1222\n",
      "           1       0.99      0.96      0.97     22085\n",
      "\n",
      "    accuracy                           0.95     23307\n",
      "   macro avg       0.75      0.89      0.80     23307\n",
      "weighted avg       0.97      0.95      0.95     23307\n",
      "\n"
     ]
    }
   ],
   "source": [
    "labels = [0, 1]\r\n",
    "    \r\n",
    "print(classification_report(test_data['sentiment'].tolist(),test_data['pred_sentiment'].tolist(),labels=labels))    "
   ]
  }
 ],
 "metadata": {
  "interpreter": {
   "hash": "944aa98c9595b62e80e7357899a53836ab80293373708a059d7c384e9a5aed2f"
  },
  "kernelspec": {
   "display_name": "Python 3.8.10 64-bit ('base': conda)",
   "name": "python3"
  },
  "language_info": {
   "name": "python",
   "version": ""
  },
  "orig_nbformat": 2
 },
 "nbformat": 4,
 "nbformat_minor": 2
}